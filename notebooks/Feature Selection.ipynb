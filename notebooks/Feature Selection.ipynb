{
 "cells": [
  {
   "cell_type": "markdown",
   "metadata": {},
   "source": [
    "### Ideas of Features\n",
    "- Want to include some temporal factor. Maybe some combination of a moving average with the last x (4?) time points (DataFrame.rolling(window).mean())\n",
    "- Probably don't need all the EEG signals or could combine them in some way? Look into meaning of these\n",
    "- Could make window as a data point?\n",
    "- Are signals strong enough that I can smooth?\n",
    "- Want to narrow down features by response type\n",
    "    + startle we're probably looking for more of a change point\n",
    "- If crews are together might want to look at together (one might respond to the other's behavior)"
   ]
  },
  {
   "cell_type": "code",
   "execution_count": null,
   "metadata": {
    "collapsed": true
   },
   "outputs": [],
   "source": []
  }
 ],
 "metadata": {
  "anaconda-cloud": {},
  "kernelspec": {
   "display_name": "Python [conda root]",
   "language": "python",
   "name": "conda-root-py"
  },
  "language_info": {
   "codemirror_mode": {
    "name": "ipython",
    "version": 3
   },
   "file_extension": ".py",
   "mimetype": "text/x-python",
   "name": "python",
   "nbconvert_exporter": "python",
   "pygments_lexer": "ipython3",
   "version": "3.5.2"
  }
 },
 "nbformat": 4,
 "nbformat_minor": 1
}
